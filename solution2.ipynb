{
 "metadata": {
  "language_info": {
   "codemirror_mode": {
    "name": "ipython",
    "version": 3
   },
   "file_extension": ".py",
   "mimetype": "text/x-python",
   "name": "python",
   "nbconvert_exporter": "python",
   "pygments_lexer": "ipython3",
   "version": "3.8.5-final"
  },
  "orig_nbformat": 2,
  "kernelspec": {
   "name": "python_defaultSpec_1599936642564",
   "display_name": "Python 3.8.5 32-bit"
  }
 },
 "nbformat": 4,
 "nbformat_minor": 2,
 "cells": [
  {
   "source": [
    "#Solutions\n"
   ],
   "cell_type": "markdown",
   "metadata": {}
  },
  {
   "source": [
    "##Solution 1"
   ],
   "cell_type": "markdown",
   "metadata": {}
  },
  {
   "cell_type": "code",
   "execution_count": 16,
   "metadata": {
    "tags": []
   },
   "outputs": [
    {
     "output_type": "stream",
     "name": "stdout",
     "text": "              Number               Square                 Cube\n                   0                    0                    0\n                   1                    1                    1\n                   2                    4                    8\n                   3                    9                   27\n                   4                   16                   64\n                   5                   25                  125\n"
    }
   ],
   "source": [
    "#Define eaders\n",
    "num = 'Number'\n",
    "sq = 'Square'\n",
    "cube = 'Cube'\n",
    "width = 20\n",
    "pad = ' '\n",
    "#Print headers\n",
    "print(f'{num :{pad}>{width}}',f'{sq :{pad}>{width}}',f'{cube :{pad}>{width}}')\n",
    "x = 0\n",
    "#compute and print square and cube of the numbers\n",
    "for x in range (0, 6):\n",
    "    print(f'{x :{pad}>{width}}',f'{x**2 :{pad}>{width}}',f'{x**3 :{pad}>{width}}')\n",
    "    x = x + 1"
   ]
  },
  {
   "source": [
    "##Solution2"
   ],
   "cell_type": "markdown",
   "metadata": {}
  },
  {
   "cell_type": "code",
   "execution_count": 28,
   "metadata": {
    "tags": []
   },
   "outputs": [
    {
     "output_type": "stream",
     "name": "stdout",
     "text": "-40 degrees celcius is -40.0 degrees in fahrenheit\n0 degrees celcius is 32.0 degrees in fahrenheit\n40 degrees celcius is 104.0 degrees in fahrenheit\n100 degrees celcius is 212.0 degrees in fahrenheit\n"
    }
   ],
   "source": [
    "#Convert Celcius to Fahrenheit\n",
    "##create a list of temperature in celcius\n",
    "temp_c = (-40, 0, 40, 100)\n",
    "#compute and print temperature in fahrenheit\n",
    "for c in temp_c:\n",
    "    f = 9 / 5 * c + 32\n",
    "    print(c, 'degrees celcius is', f ,'degrees in fahrenheit')    \n"
   ]
  },
  {
   "source": [
    "##Solutions3"
   ],
   "cell_type": "markdown",
   "metadata": {}
  },
  {
   "cell_type": "code",
   "execution_count": 31,
   "metadata": {
    "tags": []
   },
   "outputs": [
    {
     "output_type": "stream",
     "name": "stdout",
     "text": "Number 1 is 5000\nNumber 2 is 8000\nNumber 3 is 10000\nThe sum is 23,000\nThe average is 7,666.67\n"
    }
   ],
   "source": [
    "#Accept 3 numbers as user input and compute sum and average\n",
    "##user inputs 3 numbers \n",
    "a = input('Enter 1st number: ')\n",
    "b = input('Enter 2nd number: ')\n",
    "c = input('Enter 3rd number: ')\n",
    "##print the 3 numbers\n",
    "print('Number 1 is', a)\n",
    "print('Number 2 is', b)\n",
    "print('Number 3 is', c)\n",
    "##convert user input to intergar and add 3 numbers\n",
    "sum = int(a) + int(b) + int(c)\n",
    "##calculate average using the sum divided by total count of numberse\n",
    "avg = ((sum) / 3)\n",
    "##print the sum (comma seperated) and average (comma seperated and 2 decimal place round off)\n",
    "print('The sum is', f\"{sum:,}\")\n",
    "print('The average is', f\"{round(avg, 2):,}\")"
   ]
  }
 ]
}