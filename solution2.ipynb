{
 "metadata": {
  "language_info": {
   "codemirror_mode": {
    "name": "ipython",
    "version": 3
   },
   "file_extension": ".py",
   "mimetype": "text/x-python",
   "name": "python",
   "nbconvert_exporter": "python",
   "pygments_lexer": "ipython3",
   "version": "3.8.5-final"
  },
  "orig_nbformat": 2,
  "kernelspec": {
   "name": "python_defaultSpec_1599796420053",
   "display_name": "Python 3.8.5 32-bit"
  }
 },
 "nbformat": 4,
 "nbformat_minor": 2,
 "cells": [
  {
   "cell_type": "code",
   "execution_count": null,
   "metadata": {},
   "outputs": [],
   "source": [
    "#Solutions\n"
   ]
  },
  {
   "cell_type": "code",
   "execution_count": 163,
   "metadata": {
    "tags": []
   },
   "outputs": [
    {
     "output_type": "stream",
     "name": "stdout",
     "text": "              Number               Square                 Cube\n                   0                    0                    0\n                   1                    1                    1\n                   2                    4                    8\n                   3                    9                   27\n                   4                   16                   64\n                   5                   25                  125\n"
    }
   ],
   "source": [
    "##Solution 1\n",
    "num = 'Number'\n",
    "sq = 'Square'\n",
    "cube = 'Cube'\n",
    "#print headers\n",
    "print(f\"{num.rjust(20, ' ')}\", f\"{sq.rjust(20, ' ')}\",f\"{cube.rjust(20, ' ')}\")\n",
    "x = 0\n",
    "#compute and print square and cube of the numbers\n",
    "for x in range (0, 6):\n",
    "    print(\"{:20d}\".format(x), \"{:20d}\".format(x**2),\"{:20d}\".format(x**3))\n",
    "    x = x + 1"
   ]
  },
  {
   "cell_type": "code",
   "execution_count": 164,
   "metadata": {},
   "outputs": [],
   "source": [
    "##Solution 2\n",
    "    #Convert Celcius to Fahrenheit"
   ]
  }
 ]
}