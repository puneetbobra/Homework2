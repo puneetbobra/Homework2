{
 "metadata": {
  "language_info": {
   "codemirror_mode": {
    "name": "ipython",
    "version": 3
   },
   "file_extension": ".py",
   "mimetype": "text/x-python",
   "name": "python",
   "nbconvert_exporter": "python",
   "pygments_lexer": "ipython3",
   "version": "3.8.5-final"
  },
  "orig_nbformat": 2,
  "kernelspec": {
   "name": "python_defaultSpec_1599859608436",
   "display_name": "Python 3.8.5 32-bit"
  }
 },
 "nbformat": 4,
 "nbformat_minor": 2,
 "cells": [
  {
   "source": [
    "#Solutions\n"
   ],
   "cell_type": "markdown",
   "metadata": {}
  },
  {
   "source": [
    "##Solution 1"
   ],
   "cell_type": "markdown",
   "metadata": {}
  },
  {
   "cell_type": "code",
   "execution_count": 166,
   "metadata": {
    "tags": []
   },
   "outputs": [
    {
     "output_type": "stream",
     "name": "stdout",
     "text": "              Number               Square                 Cube\n                   0                    0                    0\n                   1                    1                    1\n                   2                    4                    8\n                   3                    9                   27\n                   4                   16                   64\n                   5                   25                  125\n"
    }
   ],
   "source": [
    "#Define eaders\n",
    "num = 'Number'\n",
    "sq = 'Square'\n",
    "cube = 'Cube'\n",
    "#Print headers\n",
    "print(f\"{num.rjust(20, ' ')}\", f\"{sq.rjust(20, ' ')}\",f\"{cube.rjust(20, ' ')}\")\n",
    "x = 0\n",
    "#compute and print square and cube of the numbers\n",
    "for x in range (0, 6):\n",
    "    print(\"{:20d}\".format(x), \"{:20d}\".format(x**2),\"{:20d}\".format(x**3))\n",
    "    x = x + 1"
   ]
  },
  {
   "source": [
    "##Solution2"
   ],
   "cell_type": "markdown",
   "metadata": {}
  },
  {
   "cell_type": "code",
   "execution_count": 29,
   "metadata": {
    "tags": []
   },
   "outputs": [
    {
     "output_type": "stream",
     "name": "stdout",
     "text": "-40 degrees celcius is -40.0  degrees in fahrenheit\n0   degrees celcius is  32.0  degrees in fahrenheit\n40  degrees celcius is  104.0 degrees in fahrenheit\n100 degrees celcius is  212.0 degrees in fahrenheit\n"
    }
   ],
   "source": [
    "#Convert Celcius to Fahrenheit\n",
    "##define temperature in celcius\n",
    "C1 = -40\n",
    "C2 = 0\n",
    "C3 = 40\n",
    "C4 = 100\n",
    "#compute and print temperature in fahrenheit\n",
    "f = 9 / 5  * C1 + 32\n",
    "print(C1, \"degrees celcius is\", f, ' degrees in fahrenheit')\n",
    "f = 9 / 5  * C2 + 32\n",
    "print(C2, \"  degrees celcius is \", f, ' degrees in fahrenheit')\n",
    "f = 9 / 5  * C3 + 32\n",
    "print(C3, \" degrees celcius is \", f, 'degrees in fahrenheit')\n",
    "f = 9 / 5  * C4 + 32\n",
    "print(C4, \"degrees celcius is \", f, 'degrees in fahrenheit')"
   ]
  },
  {
   "cell_type": "code",
   "execution_count": null,
   "metadata": {},
   "outputs": [],
   "source": []
  }
 ]
}